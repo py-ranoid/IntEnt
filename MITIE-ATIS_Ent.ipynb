{
 "cells": [
  {
   "cell_type": "markdown",
   "metadata": {},
   "source": [
    "## Installing and importing MITIE\n",
    "- Clone the MITIE repository\n",
    "- Generate the binaries with `make`\n",
    "```\n",
    "git clone https://github.com/mit-nlp/MITIE.git\n",
    "cd MITIE\n",
    "make\n",
    "cd mitielib && echo $PWD\n",
    "```\n",
    "\n",
    "- Add the path of `mitielib` to sys path before importing\n",
    "- Download and extract models.\n",
    "```\n",
    "wget https://github.com/mit-nlp/MITIE/releases/download/v0.4/MITIE-models-v0.2.tar.bz2\n",
    "tar xvf MITIE-models-v0.2.tar.bz2\n",
    "```"
   ]
  },
  {
   "cell_type": "code",
   "execution_count": 2,
   "metadata": {},
   "outputs": [],
   "source": [
    "import sys, os\n",
    "sys.path.append('/home/b/gitpository/MITIE/mitielib')\n",
    "MODELS_PATH = \"/home/b/gitpository/MITIE/MITIE-models/english/\"\n",
    "import mitie"
   ]
  },
  {
   "cell_type": "markdown",
   "metadata": {},
   "source": [
    "## Importing and displaying data"
   ]
  },
  {
   "cell_type": "code",
   "execution_count": 3,
   "metadata": {},
   "outputs": [
    {
     "name": "stdout",
     "output_type": "stream",
     "text": [
      "Number of sentences : 4978\n"
     ]
    }
   ],
   "source": [
    "from utils import fetch_data, read_method\n",
    "import pandas as pd\n",
    "import numpy as np\n",
    "import random\n",
    "\n",
    "tr_sents,tr_labels,tr_intents = fetch_data('data2/atis.train.w-intent.iob')\n",
    "\n",
    "def display(n,intents,sents,labels):\n",
    "    sense = []\n",
    "    print (\"INTENT : \",intents[n])\n",
    "    for i in range(len(sents[n])):\n",
    "        sense.append({\"word\":sents[n][i],\"label\":labels[n][i]})\n",
    "    return pd.DataFrame(sense)\n",
    "\n",
    "print (\"Number of sentences :\",len(tr_sents))"
   ]
  },
  {
   "cell_type": "code",
   "execution_count": 4,
   "metadata": {},
   "outputs": [
    {
     "name": "stdout",
     "output_type": "stream",
     "text": [
      "INTENT :  atis_flight\n"
     ]
    },
    {
     "data": {
      "text/html": [
       "<div>\n",
       "<style scoped>\n",
       "    .dataframe tbody tr th:only-of-type {\n",
       "        vertical-align: middle;\n",
       "    }\n",
       "\n",
       "    .dataframe tbody tr th {\n",
       "        vertical-align: top;\n",
       "    }\n",
       "\n",
       "    .dataframe thead th {\n",
       "        text-align: right;\n",
       "    }\n",
       "</style>\n",
       "<table border=\"1\" class=\"dataframe\">\n",
       "  <thead>\n",
       "    <tr style=\"text-align: right;\">\n",
       "      <th></th>\n",
       "      <th>label</th>\n",
       "      <th>word</th>\n",
       "    </tr>\n",
       "  </thead>\n",
       "  <tbody>\n",
       "    <tr>\n",
       "      <th>0</th>\n",
       "      <td>O</td>\n",
       "      <td>show</td>\n",
       "    </tr>\n",
       "    <tr>\n",
       "      <th>1</th>\n",
       "      <td>O</td>\n",
       "      <td>me</td>\n",
       "    </tr>\n",
       "    <tr>\n",
       "      <th>2</th>\n",
       "      <td>O</td>\n",
       "      <td>flights</td>\n",
       "    </tr>\n",
       "    <tr>\n",
       "      <th>3</th>\n",
       "      <td>O</td>\n",
       "      <td>from</td>\n",
       "    </tr>\n",
       "    <tr>\n",
       "      <th>4</th>\n",
       "      <td>B-fromloc.city_name</td>\n",
       "      <td>boston</td>\n",
       "    </tr>\n",
       "    <tr>\n",
       "      <th>5</th>\n",
       "      <td>O</td>\n",
       "      <td>to</td>\n",
       "    </tr>\n",
       "    <tr>\n",
       "      <th>6</th>\n",
       "      <td>B-toloc.city_name</td>\n",
       "      <td>philadelphia</td>\n",
       "    </tr>\n",
       "    <tr>\n",
       "      <th>7</th>\n",
       "      <td>O</td>\n",
       "      <td>on</td>\n",
       "    </tr>\n",
       "    <tr>\n",
       "      <th>8</th>\n",
       "      <td>O</td>\n",
       "      <td>a</td>\n",
       "    </tr>\n",
       "    <tr>\n",
       "      <th>9</th>\n",
       "      <td>B-depart_date.day_name</td>\n",
       "      <td>monday</td>\n",
       "    </tr>\n",
       "  </tbody>\n",
       "</table>\n",
       "</div>"
      ],
      "text/plain": [
       "                    label          word\n",
       "0                       O          show\n",
       "1                       O            me\n",
       "2                       O       flights\n",
       "3                       O          from\n",
       "4     B-fromloc.city_name        boston\n",
       "5                       O            to\n",
       "6       B-toloc.city_name  philadelphia\n",
       "7                       O            on\n",
       "8                       O             a\n",
       "9  B-depart_date.day_name        monday"
      ]
     },
     "execution_count": 4,
     "metadata": {},
     "output_type": "execute_result"
    }
   ],
   "source": [
    "display(random.randint(0,len(tr_sents)),tr_intents,tr_sents,tr_labels)"
   ]
  },
  {
   "cell_type": "markdown",
   "metadata": {},
   "source": [
    "## Getting entity tuples from label lists"
   ]
  },
  {
   "cell_type": "code",
   "execution_count": 5,
   "metadata": {},
   "outputs": [],
   "source": [
    "def get_entities(labels):\n",
    "    idx = 0\n",
    "    last_begin = -1\n",
    "    entity = \"\"\n",
    "    entities = []\n",
    "    while idx < len(labels):\n",
    "        if labels[idx].startswith('B'):\n",
    "            last_begin = idx;\n",
    "            entity = labels[idx][2:]\n",
    "        elif labels[idx].startswith('O'):\n",
    "            if last_begin > 0:\n",
    "                entities.append((last_begin-1, idx-1, entity))\n",
    "                last_begin = -1\n",
    "        idx += 1\n",
    "    if last_begin > 0:\n",
    "        entities.append((last_begin-1, idx-1, entity))\n",
    "\n",
    "    return entities"
   ]
  },
  {
   "cell_type": "code",
   "execution_count": 6,
   "metadata": {},
   "outputs": [
    {
     "name": "stdout",
     "output_type": "stream",
     "text": [
      "List of label :\n",
      " ['O', 'O', 'O', 'O', 'O', 'O', 'B-fromloc.city_name', 'O', 'B-depart_time.time', 'I-depart_time.time', 'O', 'O', 'O', 'B-toloc.city_name', 'O', 'B-arrive_time.time', 'O', 'O', 'B-arrive_time.period_of_day']\n",
      "List of entities :\n",
      " [(5, 6, 'fromloc.city_name'), (7, 9, 'depart_time.time'), (12, 13, 'toloc.city_name'), (14, 15, 'arrive_time.time'), (17, 18, 'arrive_time.period_of_day')]\n"
     ]
    }
   ],
   "source": [
    "label_sample = tr_labels[0]\n",
    "print (\"List of label :\\n\",label_sample)\n",
    "print (\"List of entities :\\n\",get_entities(label_sample))"
   ]
  },
  {
   "cell_type": "code",
   "execution_count": 7,
   "metadata": {},
   "outputs": [],
   "source": [
    "# Load trainer from total_word_feature_extractor.dat\n",
    "trainer = mitie.ner_trainer(MODELS_PATH+\"total_word_feature_extractor.dat\")\n",
    "\n",
    "# Adding sentences and labels to get trained\n",
    "limit = 10\n",
    "for sentence, labels in zip(tr_sents[:limit], tr_labels):\n",
    "    sample = mitie.ner_training_instance(sentence)    \n",
    "    for entity in get_entities(labels):\n",
    "        sample.add_entity(range(entity[0], entity[1]), entity[2])\n",
    "    trainer.add(sample)\n",
    "\n",
    "# Training the NER model\n",
    "trainer.num_threads = 4\n",
    "ner_atis = trainer.train()"
   ]
  },
  {
   "cell_type": "markdown",
   "metadata": {},
   "source": [
    "## Comparing NER learnt on ATIS dataset with generic NER"
   ]
  },
  {
   "cell_type": "code",
   "execution_count": 8,
   "metadata": {},
   "outputs": [],
   "source": [
    "# Loading generic NER model\n",
    "ner_gen = mitie.named_entity_extractor(MODELS_PATH+\"ner_model.dat\")"
   ]
  },
  {
   "cell_type": "markdown",
   "metadata": {},
   "source": [
    "### Labels "
   ]
  },
  {
   "cell_type": "code",
   "execution_count": 9,
   "metadata": {},
   "outputs": [
    {
     "name": "stdout",
     "output_type": "stream",
     "text": [
      "Generic NER tags:\n",
      " ['PERSON', 'LOCATION', 'ORGANIZATION', 'MISC']\n",
      "ATIS-trained NER tags:\n",
      " ['fromloc.city_name', 'depart_time.time', 'toloc.city_name', 'arrive_time.time', 'arrive_time.period_of_day', 'depart_time.period_of_day', 'flight_time', 'fare_amount', 'depart_date.today_relative', 'depart_date.day_name', 'city_name']\n"
     ]
    }
   ],
   "source": [
    "print(\"Generic NER tags:\\n\", ner_gen.get_possible_ner_tags())\n",
    "print(\"ATIS-trained NER tags:\\n\", ner_atis.get_possible_ner_tags())"
   ]
  },
  {
   "cell_type": "markdown",
   "metadata": {},
   "source": [
    "### Entities Recognised"
   ]
  },
  {
   "cell_type": "code",
   "execution_count": 14,
   "metadata": {},
   "outputs": [
    {
     "data": {
      "text/html": [
       "<table border=\"1\" class=\"dataframe\">\n",
       "  <thead>\n",
       "    <tr style=\"text-align: right;\">\n",
       "      <th></th>\n",
       "      <th>Sentence</th>\n",
       "      <th>Generic-NER : Entities</th>\n",
       "      <th>ATIS-NER : Entities</th>\n",
       "    </tr>\n",
       "  </thead>\n",
       "  <tbody>\n",
       "    <tr>\n",
       "      <th>0</th>\n",
       "      <td>i want to fly from boston at 838 am and arrive in denver at 1110 in the morning</td>\n",
       "      <td>LOCATION: boston</td>\n",
       "      <td>fromloc.city_name: boston<br>depart_time.time: 838 am<br>toloc.city_name: denver<br>arrive_time.time: 1110<br>arrive_time.period_of_day: morning</td>\n",
       "    </tr>\n",
       "  </tbody>\n",
       "</table>"
      ],
      "text/plain": [
       "<IPython.core.display.HTML object>"
      ]
     },
     "metadata": {},
     "output_type": "display_data"
    }
   ],
   "source": [
    "from IPython.display import display, HTML\n",
    "pd.set_option('display.max_colwidth',300)\n",
    "\n",
    "# To print multi-line columns in DataFrame\n",
    "def pretty_print(df):\n",
    "    return display(HTML(df.to_html().replace(\"\\\\n\",\"<br>\")))\n",
    "\n",
    "# Loading test dataset\n",
    "te_sents,te_labels,te_intents = fetch_data('data2/atis.train.w-intent.iob')\n",
    "# te_sents,te_labels,te_intents = fetch_data('data2/atis.test.w-intent.iob')\n",
    "\n",
    "# Returns string of `\\n`-seperated entities detected by given ner on sentence\n",
    "def get_ner_results(ner,sentence):\n",
    "    entities = ner.extract_entities(sentence)\n",
    "    ent_strings = []\n",
    "    for e in entities:\n",
    "        ent_strings.append(e[1] + \": \" + \" \".join(sentence[i] for i in e[0]))\n",
    "    ents_str = '\\n'.join(ent_strings)\n",
    "    return ents_str\n",
    "\n",
    "# NER Results on test dataset\n",
    "results = []\n",
    "limit = 1\n",
    "for sentence, labels in zip(te_sents[:limit], te_labels):\n",
    "    sent_str = ' '.join(sentence)\n",
    "    results.append({\"Sentence\":sent_str,\n",
    "                    \"Generic-NER : Entities\":get_ner_results(ner_gen,sentence),\n",
    "                    \"ATIS-NER : Entities\":get_ner_results(ner_atis,sentence),\n",
    "                   })\n",
    "\n",
    "pretty_print(pd.DataFrame(results)[[\"Sentence\",\"Generic-NER : Entities\",\"ATIS-NER : Entities\"]])"
   ]
  },
  {
   "cell_type": "markdown",
   "metadata": {},
   "source": [
    "## Conclusion\n",
    "- Trained NER is capable of identifying more types of entities\n",
    "    - Generic NER is only capable of detecting PERSON, LOCATION, ORGANIZATION and MISC\n",
    "    - Trained NER is capable of detecting City Names, Date & Time and Fare Amount\n",
    "- Trained NER is capable of identifying more refined entities\n",
    "    - Generic NER can only detect `LOCATION`\n",
    "        - For example : *i want to fly from boston at 838 am and arrive in denver at 1110 in the morning*\n",
    "        - Generic NER considers *boston* and *denver* to be the same entity (`LOCATION`)\n",
    "    - Trained NER can detect `fromloc.city_name`, `toloc.city_name` and `city_name`\n",
    "        - For example : *i would like to find a flight from charlotte to las vegas that makes a stop in st. louis*\n",
    "        - Trained NER considers *boston* to be `fromloc.city_name` and *denver* to be `toloc.city_name`\n",
    "\n",
    "#### Reference\n",
    "- https://github.com/mit-nlp/MITIE/blob/master/examples/python/train_ner.py"
   ]
  }
 ],
 "metadata": {
  "kernelspec": {
   "display_name": "Python 3",
   "language": "python",
   "name": "python3"
  },
  "language_info": {
   "codemirror_mode": {
    "name": "ipython",
    "version": 3
   },
   "file_extension": ".py",
   "mimetype": "text/x-python",
   "name": "python",
   "nbconvert_exporter": "python",
   "pygments_lexer": "ipython3",
   "version": "3.6.5"
  }
 },
 "nbformat": 4,
 "nbformat_minor": 2
}
