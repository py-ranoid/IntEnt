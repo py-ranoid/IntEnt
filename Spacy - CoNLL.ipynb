{
 "cells": [
  {
   "cell_type": "markdown",
   "metadata": {},
   "source": [
    "## Converting data to json structures so it can be used by Spacy"
   ]
  },
  {
   "cell_type": "code",
   "execution_count": 33,
   "metadata": {},
   "outputs": [
    {
     "name": "stdout",
     "output_type": "stream",
     "text": [
      "\n",
      "\u001b[93m    Generated output file spacyNER_data/train.txt.json\u001b[0m\n",
      "    Created 1 documents\n",
      "\n",
      "\n",
      "\u001b[93m    Generated output file spacyNER_data/test.txt.json\u001b[0m\n",
      "    Created 1 documents\n",
      "\n",
      "\n",
      "\u001b[93m    Generated output file spacyNER_data/valid.txt.json\u001b[0m\n",
      "    Created 1 documents\n",
      "\n"
     ]
    }
   ],
   "source": [
    "!mkdir spacyNER_data\n",
    "!python3 -m spacy convert \"CoNLL - 2003/en/train.txt\" spacyNER_data -c ner\n",
    "!python3 -m spacy convert \"CoNLL - 2003/en/test.txt\" spacyNER_data -c ner\n",
    "!python3 -m spacy convert \"CoNLL - 2003/en/valid.txt\" spacyNER_data -c ner"
   ]
  },
  {
   "cell_type": "markdown",
   "metadata": {},
   "source": [
    "#### For example :"
   ]
  },
  {
   "cell_type": "code",
   "execution_count": 34,
   "metadata": {
    "scrolled": true
   },
   "outputs": [
    {
     "name": "stdout",
     "output_type": "stream",
     "text": [
      "BEFORE : (CoNLL - 2003/en/train.txt)\n",
      "EU NNP B-NP B-ORG\n",
      "rejects VBZ B-VP O\n",
      "German JJ B-NP B-MISC\n",
      "call NN I-NP O\n",
      "to TO B-VP O\n",
      "boycott VB I-VP O\n",
      "British JJ B-NP B-MISC\n",
      "lamb NN I-NP O\n",
      ". . O O\n",
      "\n",
      "AFTER : (spacyNER_data/train.txt.json)\n",
      "          {\n",
      "            \"tokens\":[\n",
      "              {\n",
      "                \"tag\":\"NNP\",\n",
      "                \"ner\":\"U-ORG\",\n",
      "                \"orth\":\"EU\"\n",
      "              },\n",
      "              {\n",
      "                \"tag\":\"VBZ\",\n",
      "                \"ner\":\"O\",\n",
      "                \"orth\":\"rejects\"\n",
      "              },\n",
      "              {\n",
      "                \"tag\":\"JJ\",\n",
      "                \"ner\":\"U-MISC\",\n",
      "                \"orth\":\"German\"\n",
      "              },\n",
      "              {\n",
      "                \"tag\":\"NN\",\n",
      "                \"ner\":\"O\",\n",
      "                \"orth\":\"call\"\n",
      "              },\n",
      "              {\n",
      "                \"tag\":\"TO\",\n",
      "                \"ner\":\"O\",\n",
      "                \"orth\":\"to\"\n",
      "              },\n",
      "              {\n",
      "                \"tag\":\"VB\",\n",
      "                \"ner\":\"O\",\n",
      "                \"orth\":\"boycott\"\n",
      "              },\n",
      "              {\n",
      "                \"tag\":\"JJ\",\n",
      "                \"ner\":\"U-MISC\",\n",
      "                \"orth\":\"British\"\n",
      "              },\n",
      "              {\n",
      "                \"tag\":\"NN\",\n",
      "                \"ner\":\"O\",\n",
      "                \"orth\":\"lamb\"\n",
      "              },\n",
      "              {\n",
      "                \"tag\":\".\",\n",
      "                \"ner\":\"O\",\n",
      "                \"orth\":\".\"\n",
      "              }\n",
      "            ]\n",
      "          },\n"
     ]
    }
   ],
   "source": [
    "!echo \"BEFORE : (CoNLL - 2003/en/train.txt)\"\n",
    "!head \"CoNLL - 2003/en/train.txt\" -n 11 | tail -n 9\n",
    "!echo \"\\nAFTER : (spacyNER_data/train.txt.json)\"\n",
    "!head \"spacyNER_data/train.txt.json\" -n 64 | tail -n 49"
   ]
  },
  {
   "cell_type": "markdown",
   "metadata": {},
   "source": [
    "## Training the NER model with Spacy (CLI)"
   ]
  },
  {
   "cell_type": "code",
   "execution_count": null,
   "metadata": {},
   "outputs": [
    {
     "name": "stdout",
     "output_type": "stream",
     "text": [
      "dropout_from = 0.2 by default\n",
      "dropout_to = 0.2 by default\n",
      "dropout_decay = 0.0 by default\n",
      "batch_from = 1 by default\n",
      "batch_to = 16 by default\n",
      "batch_compound = 1.001 by default\n",
      "max_doc_len = 5000 by default\n",
      "beam_width = 1 by default\n",
      "beam_density = 0.0 by default\n",
      "learn_rate = 0.001 by default\n",
      "optimizer_B1 = 0.9 by default\n",
      "optimizer_B2 = 0.999 by default\n",
      "optimizer_eps = 1e-08 by default\n",
      "L2_penalty = 1e-06 by default\n",
      "grad_norm_clip = 1.0 by default\n",
      "parser_hidden_depth = 1 by default\n",
      "parser_maxout_pieces = 2 by default\n",
      "token_vector_width = 128 by default\n",
      "hidden_width = 200 by default\n",
      "embed_size = 7000 by default\n",
      "history_feats = 0 by default\n",
      "history_width = 0 by default\n",
      "Itn.\tP.Loss\tN.Loss\tUAS\tNER P.\tNER R.\tNER F.\tTag %\tToken %\n",
      "0\t0.000\t2475.628\t0.000\t81.932\t82.497\t82.214\t0.000\t100.000\t19837.3\t0.0           \n",
      "1\t0.000\t24.277\t0.000\t85.908\t86.486\t86.196\t0.000\t100.000\t19685.2\t0.0             \n",
      "2\t0.000\t14.419\t0.000\t87.013\t87.159\t87.086\t0.000\t100.000\t20357.2\t0.0             \n",
      "3\t0.000\t11.147\t0.000\t87.070\t87.832\t87.450\t0.000\t100.000\t20438.6\t0.0             \n",
      " 65%|█████████████████████▌           | 133621/204567 [01:28<00:46, 1536.90it/s]"
     ]
    }
   ],
   "source": [
    "!python3 -m spacy train en model spacyNER_data/train.txt.json spacyNER_data/valid.txt.json -G -T -P"
   ]
  },
  {
   "cell_type": "markdown",
   "metadata": {},
   "source": [
    "## Evaluating the model with test data set (`spacyNER_data/test.txt.json`)"
   ]
  },
  {
   "cell_type": "markdown",
   "metadata": {},
   "source": [
    "### On Trained model (`model/model6`)"
   ]
  },
  {
   "cell_type": "code",
   "execution_count": 47,
   "metadata": {},
   "outputs": [
    {
     "name": "stdout",
     "output_type": "stream",
     "text": [
      "/usr/lib/python3.5/importlib/_bootstrap.py:222: RuntimeWarning: numpy.dtype size changed, may indicate binary incompatibility. Expected 96, got 88\n",
      "  return f(*args, **kwds)\n",
      "/usr/lib/python3.5/importlib/_bootstrap.py:222: RuntimeWarning: numpy.ufunc size changed, may indicate binary incompatibility. Expected 192, got 176\n",
      "  return f(*args, **kwds)\n",
      "/usr/lib/python3.5/importlib/_bootstrap.py:222: RuntimeWarning: numpy.dtype size changed, may indicate binary incompatibility. Expected 96, got 88\n",
      "  return f(*args, **kwds)\n",
      "/usr/lib/python3.5/importlib/_bootstrap.py:222: RuntimeWarning: numpy.ufunc size changed, may indicate binary incompatibility. Expected 192, got 176\n",
      "  return f(*args, **kwds)\n",
      "\n",
      "    \u001b[93mResults\u001b[0m\n",
      "\n",
      "    Time               2.21 s         \n",
      "    NER P              76.84          \n",
      "    NER F              77.68          \n",
      "    Words              46666          \n",
      "    POS                0.00           \n",
      "    UAS                0.00           \n",
      "    LAS                0.00           \n",
      "    TOK                100.00         \n",
      "    Words/s            21098          \n",
      "    NER R              78.54          \n",
      "\n",
      "\n",
      "\u001b[93m    Generated 25 parses as HTML\u001b[0m\n",
      "    result\n",
      "\n"
     ]
    }
   ],
   "source": [
    "# !mkdir result\n",
    "!python3 -m spacy evaluate model/model6 spacyNER_data/test.txt.json -dp result\n",
    "# !python -m spacy evaluate model/model-final data/test.txt.json -dp result"
   ]
  },
  {
   "cell_type": "markdown",
   "metadata": {},
   "source": [
    "View visualisation of entities detected by (`model/model6`) with displaCy [here](http://vishalgupta.me/IntEnt/result/entities.html)"
   ]
  },
  {
   "cell_type": "markdown",
   "metadata": {},
   "source": [
    "### Pretrained model (`en`)"
   ]
  },
  {
   "cell_type": "code",
   "execution_count": 46,
   "metadata": {},
   "outputs": [
    {
     "name": "stdout",
     "output_type": "stream",
     "text": [
      "/usr/lib/python3.5/importlib/_bootstrap.py:222: RuntimeWarning: numpy.dtype size changed, may indicate binary incompatibility. Expected 96, got 88\n",
      "  return f(*args, **kwds)\n",
      "/usr/lib/python3.5/importlib/_bootstrap.py:222: RuntimeWarning: numpy.ufunc size changed, may indicate binary incompatibility. Expected 192, got 176\n",
      "  return f(*args, **kwds)\n",
      "/usr/lib/python3.5/importlib/_bootstrap.py:222: RuntimeWarning: numpy.dtype size changed, may indicate binary incompatibility. Expected 96, got 88\n",
      "  return f(*args, **kwds)\n",
      "/usr/lib/python3.5/importlib/_bootstrap.py:222: RuntimeWarning: numpy.ufunc size changed, may indicate binary incompatibility. Expected 192, got 176\n",
      "  return f(*args, **kwds)\n",
      "\n",
      "    \u001b[93mResults\u001b[0m\n",
      "\n",
      "    LAS                0.00           \n",
      "    TOK                100.00         \n",
      "    NER F              6.53           \n",
      "    Time               8.02 s         \n",
      "    NER P              5.29           \n",
      "    Words/s            5821           \n",
      "    UAS                0.00           \n",
      "    POS                86.99          \n",
      "    NER R              8.55           \n",
      "    Words              46666          \n",
      "\n",
      "\n",
      "\u001b[93m    Generated 25 parses as HTML\u001b[0m\n",
      "    pretrained_result\n",
      "\n"
     ]
    }
   ],
   "source": [
    "!python3 -m spacy evaluate en spacyNER_data/test.txt.json -dp pretrained_result"
   ]
  },
  {
   "cell_type": "markdown",
   "metadata": {},
   "source": [
    "#### View visualisation of entities detected by (`en`) with displaCy [here](http://vishalgupta.me/IntEnt/pretrained_result/entities.html)"
   ]
  }
 ],
 "metadata": {
  "kernelspec": {
   "display_name": "Python 2",
   "language": "python",
   "name": "python2"
  },
  "language_info": {
   "codemirror_mode": {
    "name": "ipython",
    "version": 2
   },
   "file_extension": ".py",
   "mimetype": "text/x-python",
   "name": "python",
   "nbconvert_exporter": "python",
   "pygments_lexer": "ipython2",
   "version": "2.7.14"
  }
 },
 "nbformat": 4,
 "nbformat_minor": 2
}
