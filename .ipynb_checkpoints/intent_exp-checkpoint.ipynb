{
 "cells": [
  {
   "cell_type": "markdown",
   "metadata": {},
   "source": [
    "# Intent Recognition with Sequential Models and Word2Vec\n",
    "The goal of this notebook will be to classify intents of sentences. <br>For the purpose of demonstration, we will be using the ATIS (Airline travel information system) dataset. \n",
    "This can be accomplished with the following steps:\n",
    "- Reading the dataset (from iob files) and Understanding the labels\n",
    "- Encoding the intent labels\n",
    "- Loading the word2vec model and embedding the words.\n",
    "- Creating our sequential model (Bi-RNN) with PyTorch\n",
    "- Splitting the data and training our model\n",
    "- Testing the model"
   ]
  },
  {
   "cell_type": "markdown",
   "metadata": {},
   "source": [
    "## Reading the dataset and Understanding labels"
   ]
  },
  {
   "cell_type": "code",
   "execution_count": 8,
   "metadata": {},
   "outputs": [
    {
     "name": "stdout",
     "output_type": "stream",
     "text": [
      "Number of sentences : 4978\n",
      "Number of unique intents : 22\n"
     ]
    }
   ],
   "source": [
    "import random\n",
    "from utils import fetch_data\n",
    "\n",
    "sents,labels,intents = fetch_data('data2/atis.train.w-intent.iob')\n",
    "\n",
    "def display(n):\n",
    "    sense = []\n",
    "    print (\"INTENT : \",intents[n])\n",
    "    for i in range(len(sents[n])):\n",
    "    #     sense.append({\"word_index\":word_indices[0][i],\"word\":words2idx[word_indices[0][i]],\"entity_index\":name_entities[0][i],\"entity\":tables2idx[name_entities[0][i]],\"label_index\":labels[0][i],\"label\":labels2idx[labels[0][i]]})\n",
    "        sense.append({\"word\":sents[n][i],\"label\":labels[n][i]})\n",
    "    return pd.DataFrame(sense)\n",
    "\n",
    "print \"Number of sentences :\",len(sents)\n",
    "print \"Number of unique intents :\",len(set(intents))"
   ]
  },
  {
   "cell_type": "code",
   "execution_count": 18,
   "metadata": {},
   "outputs": [
    {
     "name": "stdout",
     "output_type": "stream",
     "text": [
      "('INTENT : ', 'atis_flight')\n"
     ]
    },
    {
     "data": {
      "text/html": [
       "<div>\n",
       "<style>\n",
       "    .dataframe thead tr:only-child th {\n",
       "        text-align: right;\n",
       "    }\n",
       "\n",
       "    .dataframe thead th {\n",
       "        text-align: left;\n",
       "    }\n",
       "\n",
       "    .dataframe tbody tr th {\n",
       "        vertical-align: top;\n",
       "    }\n",
       "</style>\n",
       "<table border=\"1\" class=\"dataframe\">\n",
       "  <thead>\n",
       "    <tr style=\"text-align: right;\">\n",
       "      <th></th>\n",
       "      <th>label</th>\n",
       "      <th>word</th>\n",
       "    </tr>\n",
       "  </thead>\n",
       "  <tbody>\n",
       "    <tr>\n",
       "      <th>0</th>\n",
       "      <td>O</td>\n",
       "      <td>i</td>\n",
       "    </tr>\n",
       "    <tr>\n",
       "      <th>1</th>\n",
       "      <td>O</td>\n",
       "      <td>want</td>\n",
       "    </tr>\n",
       "    <tr>\n",
       "      <th>2</th>\n",
       "      <td>O</td>\n",
       "      <td>to</td>\n",
       "    </tr>\n",
       "    <tr>\n",
       "      <th>3</th>\n",
       "      <td>O</td>\n",
       "      <td>fly</td>\n",
       "    </tr>\n",
       "    <tr>\n",
       "      <th>4</th>\n",
       "      <td>B-fromloc.city_name</td>\n",
       "      <td>dallas</td>\n",
       "    </tr>\n",
       "    <tr>\n",
       "      <th>5</th>\n",
       "      <td>O</td>\n",
       "      <td>to</td>\n",
       "    </tr>\n",
       "    <tr>\n",
       "      <th>6</th>\n",
       "      <td>B-toloc.city_name</td>\n",
       "      <td>san</td>\n",
       "    </tr>\n",
       "    <tr>\n",
       "      <th>7</th>\n",
       "      <td>I-toloc.city_name</td>\n",
       "      <td>francisco</td>\n",
       "    </tr>\n",
       "    <tr>\n",
       "      <th>8</th>\n",
       "      <td>O</td>\n",
       "      <td>on</td>\n",
       "    </tr>\n",
       "    <tr>\n",
       "      <th>9</th>\n",
       "      <td>B-depart_date.day_name</td>\n",
       "      <td>monday</td>\n",
       "    </tr>\n",
       "    <tr>\n",
       "      <th>10</th>\n",
       "      <td>B-depart_date.month_name</td>\n",
       "      <td>july</td>\n",
       "    </tr>\n",
       "    <tr>\n",
       "      <th>11</th>\n",
       "      <td>B-depart_date.day_number</td>\n",
       "      <td>eighth</td>\n",
       "    </tr>\n",
       "  </tbody>\n",
       "</table>\n",
       "</div>"
      ],
      "text/plain": [
       "                       label       word\n",
       "0                          O          i\n",
       "1                          O       want\n",
       "2                          O         to\n",
       "3                          O        fly\n",
       "4        B-fromloc.city_name     dallas\n",
       "5                          O         to\n",
       "6          B-toloc.city_name        san\n",
       "7          I-toloc.city_name  francisco\n",
       "8                          O         on\n",
       "9     B-depart_date.day_name     monday\n",
       "10  B-depart_date.month_name       july\n",
       "11  B-depart_date.day_number     eighth"
      ]
     },
     "execution_count": 18,
     "metadata": {},
     "output_type": "execute_result"
    }
   ],
   "source": [
    "# sents - List of sentences where each sentence is a list of words\n",
    "# intents - List of labelled intents\n",
    "display(random.randint(0,len(sents)))"
   ]
  },
  {
   "cell_type": "markdown",
   "metadata": {},
   "source": [
    "## Encoding the intent labels"
   ]
  },
  {
   "cell_type": "code",
   "execution_count": 29,
   "metadata": {},
   "outputs": [
    {
     "data": {
      "text/html": [
       "<div>\n",
       "<style>\n",
       "    .dataframe thead tr:only-child th {\n",
       "        text-align: right;\n",
       "    }\n",
       "\n",
       "    .dataframe thead th {\n",
       "        text-align: left;\n",
       "    }\n",
       "\n",
       "    .dataframe tbody tr th {\n",
       "        vertical-align: top;\n",
       "    }\n",
       "</style>\n",
       "<table border=\"1\" class=\"dataframe\">\n",
       "  <thead>\n",
       "    <tr style=\"text-align: right;\">\n",
       "      <th></th>\n",
       "      <th>Encoded Intents</th>\n",
       "      <th>Intents</th>\n",
       "    </tr>\n",
       "  </thead>\n",
       "  <tbody>\n",
       "    <tr>\n",
       "      <th>0</th>\n",
       "      <td>12</td>\n",
       "      <td>atis_flight</td>\n",
       "    </tr>\n",
       "    <tr>\n",
       "      <th>1</th>\n",
       "      <td>12</td>\n",
       "      <td>atis_flight</td>\n",
       "    </tr>\n",
       "    <tr>\n",
       "      <th>2</th>\n",
       "      <td>15</td>\n",
       "      <td>atis_flight_time</td>\n",
       "    </tr>\n",
       "    <tr>\n",
       "      <th>3</th>\n",
       "      <td>3</td>\n",
       "      <td>atis_airfare</td>\n",
       "    </tr>\n",
       "    <tr>\n",
       "      <th>4</th>\n",
       "      <td>3</td>\n",
       "      <td>atis_airfare</td>\n",
       "    </tr>\n",
       "  </tbody>\n",
       "</table>\n",
       "</div>"
      ],
      "text/plain": [
       "   Encoded Intents           Intents\n",
       "0               12       atis_flight\n",
       "1               12       atis_flight\n",
       "2               15  atis_flight_time\n",
       "3                3      atis_airfare\n",
       "4                3      atis_airfare"
      ]
     },
     "execution_count": 29,
     "metadata": {},
     "output_type": "execute_result"
    }
   ],
   "source": [
    "from sklearn import preprocessing\n",
    "intent_encoder = preprocessing.LabelEncoder()\n",
    "enc_intents = intent_encoder.fit_transform(intents)\n",
    "# print enc_labels\n",
    "pd.DataFrame({\"Intents\":intents[:5],\"Encoded Intents\":enc_intents[:5]})"
   ]
  },
  {
   "cell_type": "markdown",
   "metadata": {},
   "source": [
    "## Loading the word2vec model and embedding the words."
   ]
  },
  {
   "cell_type": "code",
   "execution_count": 36,
   "metadata": {
    "collapsed": true
   },
   "outputs": [],
   "source": [
    "from gensim.models import KeyedVectors\n",
    "import pandas as pd\n",
    "import os\n",
    "\n",
    "MODEL_PATH = '/home/b/Downloads/GoogleNews-vectors-negative300.bin.gz'\n",
    "\n",
    "if not os.path.exists(MODEL_PATH):\n",
    "    raise ValueError(\"SKIP: You need to download the google news model\")\n",
    "    \n",
    "w2v_model = KeyedVectors.load_word2vec_format(MODEL_PATH, binary=True,limit=2500000)"
   ]
  },
  {
   "cell_type": "code",
   "execution_count": 39,
   "metadata": {},
   "outputs": [],
   "source": [
    "def embed_sentence(sent):\n",
    "    return [w2v_model.word_vec(word) for word in sent]\n",
    "\n",
    "enc_sents = []\n",
    "exceptions = []\n",
    "for s in sents:\n",
    "    try:\n",
    "        enc_sents.append(embed_sentence(s))\n",
    "    except KeyError:\n",
    "        exceptions.append(s)"
   ]
  },
  {
   "cell_type": "code",
   "execution_count": 42,
   "metadata": {},
   "outputs": [
    {
     "name": "stdout",
     "output_type": "stream",
     "text": [
      "546\n",
      "4432\n"
     ]
    }
   ],
   "source": [
    "print len(enc_sents)\n",
    "print len(exceptions)"
   ]
  }
 ],
 "metadata": {
  "kernelspec": {
   "display_name": "Python 3",
   "language": "python",
   "name": "python3"
  },
  "language_info": {
   "codemirror_mode": {
    "name": "ipython",
    "version": 2
   },
   "file_extension": ".py",
   "mimetype": "text/x-python",
   "name": "python",
   "nbconvert_exporter": "python",
   "pygments_lexer": "ipython2",
   "version": "2.7.14"
  }
 },
 "nbformat": 4,
 "nbformat_minor": 2
}
